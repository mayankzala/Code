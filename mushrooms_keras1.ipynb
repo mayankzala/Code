{
 "cells": [
  {
   "cell_type": "markdown",
   "metadata": {},
   "source": [
    "# Mushrooms classification\n",
    "\n"
   ]
  },
  {
   "cell_type": "markdown",
   "metadata": {},
   "source": [
    "### Import used modules\n",
    "\n",
    "The only external modules used for this notebook are [numpy](http://www.numpy.org/), [tensorflow](https://www.tensorflow.org/), and [matplotlib](https://matplotlib.org/)."
   ]
  },
  {
   "cell_type": "code",
   "execution_count": 1,
   "metadata": {},
   "outputs": [],
   "source": [
    "import tensorflow as tf"
   ]
  },
  {
   "cell_type": "code",
   "execution_count": 2,
   "metadata": {},
   "outputs": [],
   "source": [
    "%matplotlib inline\n",
    "\n",
    "import sys\n",
    "from pathlib import Path\n",
    "\n",
    "import numpy as np\n",
    "#import tensorflow as tf\n",
    "import matplotlib.pyplot as plt"
   ]
  },
  {
   "cell_type": "markdown",
   "metadata": {},
   "source": [
    "## Load the processed data\n",
    "\n",
    "First we need to load the processed data. This files are loaded as numpy arrays."
   ]
  },
  {
   "cell_type": "code",
   "execution_count": 3,
   "metadata": {},
   "outputs": [],
   "source": [
    "training_data = np.load(open(\"training_data/mushrooms_training_data.npy\", 'rb'))\n",
    "training_labels = np.load(open(\"training_data/mushrooms_training_labels.npy\", 'rb'))\n",
    "validation_data = np.load(open(\"training_data/mushrooms_validation_data.npy\", 'rb'))\n",
    "validation_labels = np.load(open(\"training_data/mushrooms_validation_labels.npy\", 'rb'))\n",
    "test_data = np.load(open(\"training_data/mushrooms_test_data.npy\", 'rb'))\n",
    "test_labels = np.load(open(\"training_data/mushrooms_test_labels.npy\", 'rb'))"
   ]
  },
  {
   "cell_type": "markdown",
   "metadata": {},
   "source": [
    "Print data type and arrays shapes."
   ]
  },
  {
   "cell_type": "code",
   "execution_count": 4,
   "metadata": {},
   "outputs": [
    {
     "name": "stdout",
     "output_type": "stream",
     "text": [
      "Loaded data type = <class 'numpy.ndarray'>\n",
      "Training data shape = (6500, 117)\n",
      "Training labels shape = (6500, 1)\n",
      "Validation data shape = (812, 117)\n",
      "Validation labels shape = (812, 1)\n",
      "Test data shape = (812, 117)\n",
      "Test labels shape = (812, 1)\n"
     ]
    }
   ],
   "source": [
    "print(\"Loaded data type = {}\".format(type(training_data)))\n",
    "print(\"Training data shape = {}\".format(training_data.shape))\n",
    "print(\"Training labels shape = {}\".format(training_labels.shape))\n",
    "print(\"Validation data shape = {}\".format(validation_data.shape))\n",
    "print(\"Validation labels shape = {}\".format(validation_labels.shape))\n",
    "print(\"Test data shape = {}\".format(test_data.shape))\n",
    "print(\"Test labels shape = {}\".format(test_labels.shape))"
   ]
  },
  {
   "cell_type": "markdown",
   "metadata": {},
   "source": [
    "## Create model\n",
    "\n",
    "Now we will define our neural network model. We will create a [Keras](https://www.tensorflow.org/guide/keras) model that we can later train. We need to perform the next operations\n",
    "- **Inputs**: We need to create keras inputs for the model. We will need only a data input.\n",
    "- **Hidden layers**: In this model we will use a stack of keras [fully connected layers](https://www.tensorflow.org/api_docs/python/tf/keras/layers/Dense). The number, size and activation function of this layers can be changed from the model parameters variables.\n",
    "- **Output layer**: We will use a fully connected layer, with size 1 (one neuron) and a [sigmoid](https://en.wikipedia.org/wiki/Sigmoid_function) activation function (the standart output function for binary classification).\n",
    "- **Instantiate model**: We create de keras model indicating the input and output of it.\n",
    "- **Compile model**: We compile the model with the loss function we want to use, the optimizer and the metrics we want to keep trak of.\n",
    "- **Callbacks**: Utilities called at certain points during model training ([info](https://www.tensorflow.org/api_docs/python/tf/keras/callbacks))."
   ]
  },
  {
   "cell_type": "markdown",
   "metadata": {},
   "source": [
    "### Model parameters\n",
    "\n",
    "This parameters are used to easily change the model architecture to try different configurations and find the best for our specific task."
   ]
  },
  {
   "cell_type": "code",
   "execution_count": 5,
   "metadata": {},
   "outputs": [],
   "source": [
    "# Parameters\n",
    "fully_connected_layers = 3\n",
    "fully_connected_size = 50\n",
    "fully_connected_activation = \"relu\""
   ]
  },
  {
   "cell_type": "markdown",
   "metadata": {},
   "source": [
    "### Training hyperparameters\n",
    "\n",
    "These are the hyperparameters we need to tune in order to get the model and training to work. Try different values to see how the training and model performance change."
   ]
  },
  {
   "cell_type": "code",
   "execution_count": 6,
   "metadata": {},
   "outputs": [],
   "source": [
    "# Hyperparameters\n",
    "epochs = 50\n",
    "batch_size = 128\n",
    "learning_rate = 0.01"
   ]
  },
  {
   "cell_type": "markdown",
   "metadata": {},
   "source": [
    "### Create model inputs\n",
    "\n",
    "We first create the model inputs. This are later used to feed data to the model. We need only a data input for this model."
   ]
  },
  {
   "cell_type": "code",
   "execution_count": 7,
   "metadata": {},
   "outputs": [],
   "source": [
    "#tf.reset_default_graph()\n",
    "tf.compat.v1.reset_default_graph()"
   ]
  },
  {
   "cell_type": "markdown",
   "metadata": {},
   "source": [
    "# The shape (None, 117) refers to a tensor or multidimensional array with two dimensions. The first dimension has a size of \"None\" which means it can take any non-negative integer value, and the second dimension has a fixed size of 117.\n",
    "\n",
    "In machine learning, the \"None\" dimension is typically used to represent the batch size of the data. The batch size refers to the number of samples that are processed simultaneously during training or inference. The use of a variable batch size allows for efficient use of hardware resources, as well as greater flexibility in training and inference.\n",
    "\n",
    "Therefore, if you see a tensor or multidimensional array with shape (None, 117) in a machine learning context, it means that the input data has a fixed number of features (117), but the number of samples can vary depending on the batch size used during training or inference."
   ]
  },
  {
   "cell_type": "code",
   "execution_count": 8,
   "metadata": {},
   "outputs": [
    {
     "name": "stdout",
     "output_type": "stream",
     "text": [
      "KerasTensor(type_spec=TensorSpec(shape=(None, 117), dtype=tf.float32, name='inputs'), name='inputs', description=\"created by layer 'inputs'\")\n"
     ]
    }
   ],
   "source": [
    "# Data input\n",
    "x = tf.keras.Input(shape=(training_data.shape[1], ), name=\"inputs\")\n",
    "print(x)"
   ]
  },
  {
   "cell_type": "raw",
   "metadata": {},
   "source": [
    "### Create hidden layers"
   ]
  },
  {
   "cell_type": "code",
   "execution_count": 9,
   "metadata": {},
   "outputs": [
    {
     "name": "stdout",
     "output_type": "stream",
     "text": [
      "KerasTensor(type_spec=TensorSpec(shape=(None, 50), dtype=tf.float32, name=None), name='dense_1/Relu:0', description=\"created by layer 'dense_1'\")\n",
      "KerasTensor(type_spec=TensorSpec(shape=(None, 50), dtype=tf.float32, name=None), name='dense_2/Relu:0', description=\"created by layer 'dense_2'\")\n",
      "KerasTensor(type_spec=TensorSpec(shape=(None, 50), dtype=tf.float32, name=None), name='dense_3/Relu:0', description=\"created by layer 'dense_3'\")\n"
     ]
    }
   ],
   "source": [
    "dense_layers = fully_connected_layers\n",
    "\n",
    "# Create first dense layer\n",
    "# Shape: (batch_size, fully_connected_size)\n",
    "dense = tf.keras.layers.Dense(fully_connected_size,\n",
    "                              activation=fully_connected_activation,\n",
    "                              name=\"dense_1\")(x)\n",
    "\n",
    "print(dense)\n",
    "\n",
    "dense_layers -= 1\n",
    "dense_layer_count = 2\n",
    "\n",
    "# Create next dense layers\n",
    "for i in range(dense_layers):\n",
    "    # Shape: (batch_size, fully_connected_size)\n",
    "    dense = tf.keras.layers.Dense(fully_connected_size,\n",
    "                                  activation=fully_connected_activation,\n",
    "                                  name=\"dense_{}\".format(dense_layer_count))(dense)\n",
    "    \n",
    "    print(dense)\n",
    "    \n",
    "    dense_layer_count += 1"
   ]
  },
  {
   "cell_type": "markdown",
   "metadata": {},
   "source": [
    "### Create output layer"
   ]
  },
  {
   "cell_type": "code",
   "execution_count": 10,
   "metadata": {},
   "outputs": [
    {
     "name": "stdout",
     "output_type": "stream",
     "text": [
      "KerasTensor(type_spec=TensorSpec(shape=(None, 1), dtype=tf.float32, name=None), name='output_layer/Sigmoid:0', description=\"created by layer 'output_layer'\")\n"
     ]
    }
   ],
   "source": [
    "# Shape: (batch_size, 1)\n",
    "output_layer = tf.keras.layers.Dense(1,\n",
    "                                     activation=\"sigmoid\",\n",
    "                                     name=\"output_layer\")(dense)\n",
    "\n",
    "print(output_layer)"
   ]
  },
  {
   "cell_type": "markdown",
   "metadata": {},
   "source": [
    "### Instantiate the model"
   ]
  },
  {
   "cell_type": "code",
   "execution_count": 11,
   "metadata": {},
   "outputs": [],
   "source": [
    "model = tf.keras.Model(inputs=x, outputs=output_layer)"
   ]
  },
  {
   "cell_type": "markdown",
   "metadata": {},
   "source": [
    "### Compile the model"
   ]
  },
  {
   "cell_type": "code",
   "execution_count": 12,
   "metadata": {},
   "outputs": [
    {
     "name": "stdout",
     "output_type": "stream",
     "text": [
      "Model: \"model\"\n",
      "_________________________________________________________________\n",
      " Layer (type)                Output Shape              Param #   \n",
      "=================================================================\n",
      " inputs (InputLayer)         [(None, 117)]             0         \n",
      "                                                                 \n",
      " dense_1 (Dense)             (None, 50)                5900      \n",
      "                                                                 \n",
      " dense_2 (Dense)             (None, 50)                2550      \n",
      "                                                                 \n",
      " dense_3 (Dense)             (None, 50)                2550      \n",
      "                                                                 \n",
      " output_layer (Dense)        (None, 1)                 51        \n",
      "                                                                 \n",
      "=================================================================\n",
      "Total params: 11,051\n",
      "Trainable params: 11,051\n",
      "Non-trainable params: 0\n",
      "_________________________________________________________________\n"
     ]
    }
   ],
   "source": [
    "model.compile(optimizer=tf.keras.optimizers.SGD(learning_rate=learning_rate),\n",
    "              loss=\"binary_crossentropy\",\n",
    "              metrics=[\"accuracy\"])\n",
    "model.summary()"
   ]
  },
  {
   "cell_type": "markdown",
   "metadata": {},
   "source": [
    "## Model training"
   ]
  },
  {
   "cell_type": "code",
   "execution_count": 13,
   "metadata": {
    "scrolled": false
   },
   "outputs": [
    {
     "name": "stdout",
     "output_type": "stream",
     "text": [
      "Epoch 1/50\n",
      "51/51 - 0s - loss: 0.6670 - accuracy: 0.5758 - val_loss: 0.7556 - val_accuracy: 0.2328 - 418ms/epoch - 8ms/step\n",
      "Epoch 2/50\n",
      "51/51 - 0s - loss: 0.6050 - accuracy: 0.6500 - val_loss: 0.7198 - val_accuracy: 0.3571 - 61ms/epoch - 1ms/step\n",
      "Epoch 3/50\n",
      "51/51 - 0s - loss: 0.5264 - accuracy: 0.7898 - val_loss: 0.6254 - val_accuracy: 0.6958 - 59ms/epoch - 1ms/step\n",
      "Epoch 4/50\n",
      "51/51 - 0s - loss: 0.4236 - accuracy: 0.8697 - val_loss: 0.4771 - val_accuracy: 0.8966 - 51ms/epoch - 1ms/step\n",
      "Epoch 5/50\n",
      "51/51 - 0s - loss: 0.3196 - accuracy: 0.9118 - val_loss: 0.3435 - val_accuracy: 0.9286 - 69ms/epoch - 1ms/step\n",
      "Epoch 6/50\n",
      "51/51 - 0s - loss: 0.2371 - accuracy: 0.9415 - val_loss: 0.2561 - val_accuracy: 0.9286 - 61ms/epoch - 1ms/step\n",
      "Epoch 7/50\n",
      "51/51 - 0s - loss: 0.1797 - accuracy: 0.9605 - val_loss: 0.2066 - val_accuracy: 0.9298 - 48ms/epoch - 951us/step\n",
      "Epoch 8/50\n",
      "51/51 - 0s - loss: 0.1413 - accuracy: 0.9686 - val_loss: 0.1780 - val_accuracy: 0.9323 - 72ms/epoch - 1ms/step\n",
      "Epoch 9/50\n",
      "51/51 - 0s - loss: 0.1153 - accuracy: 0.9714 - val_loss: 0.1613 - val_accuracy: 0.9323 - 54ms/epoch - 1ms/step\n",
      "Epoch 10/50\n",
      "51/51 - 0s - loss: 0.0966 - accuracy: 0.9732 - val_loss: 0.1506 - val_accuracy: 0.9335 - 67ms/epoch - 1ms/step\n",
      "Epoch 11/50\n",
      "51/51 - 0s - loss: 0.0824 - accuracy: 0.9763 - val_loss: 0.1420 - val_accuracy: 0.9323 - 59ms/epoch - 1ms/step\n",
      "Epoch 12/50\n",
      "51/51 - 0s - loss: 0.0711 - accuracy: 0.9792 - val_loss: 0.1345 - val_accuracy: 0.9323 - 62ms/epoch - 1ms/step\n",
      "Epoch 13/50\n",
      "51/51 - 0s - loss: 0.0619 - accuracy: 0.9840 - val_loss: 0.1288 - val_accuracy: 0.9323 - 62ms/epoch - 1ms/step\n",
      "Epoch 14/50\n",
      "51/51 - 0s - loss: 0.0543 - accuracy: 0.9868 - val_loss: 0.1223 - val_accuracy: 0.9347 - 62ms/epoch - 1ms/step\n",
      "Epoch 15/50\n",
      "51/51 - 0s - loss: 0.0479 - accuracy: 0.9888 - val_loss: 0.1189 - val_accuracy: 0.9372 - 70ms/epoch - 1ms/step\n",
      "Epoch 16/50\n",
      "51/51 - 0s - loss: 0.0427 - accuracy: 0.9902 - val_loss: 0.1130 - val_accuracy: 0.9397 - 71ms/epoch - 1ms/step\n",
      "Epoch 17/50\n",
      "51/51 - 0s - loss: 0.0382 - accuracy: 0.9928 - val_loss: 0.1079 - val_accuracy: 0.9433 - 72ms/epoch - 1ms/step\n",
      "Epoch 18/50\n",
      "51/51 - 0s - loss: 0.0344 - accuracy: 0.9937 - val_loss: 0.1037 - val_accuracy: 0.9458 - 59ms/epoch - 1ms/step\n",
      "Epoch 19/50\n",
      "51/51 - 0s - loss: 0.0311 - accuracy: 0.9949 - val_loss: 0.0984 - val_accuracy: 0.9544 - 76ms/epoch - 1ms/step\n",
      "Epoch 20/50\n",
      "51/51 - 0s - loss: 0.0283 - accuracy: 0.9960 - val_loss: 0.0954 - val_accuracy: 0.9544 - 69ms/epoch - 1ms/step\n",
      "Epoch 21/50\n",
      "51/51 - 0s - loss: 0.0258 - accuracy: 0.9972 - val_loss: 0.0914 - val_accuracy: 0.9569 - 79ms/epoch - 2ms/step\n",
      "Epoch 22/50\n",
      "51/51 - 0s - loss: 0.0237 - accuracy: 0.9980 - val_loss: 0.0877 - val_accuracy: 0.9581 - 77ms/epoch - 2ms/step\n",
      "Epoch 23/50\n",
      "51/51 - 0s - loss: 0.0218 - accuracy: 0.9980 - val_loss: 0.0824 - val_accuracy: 0.9606 - 47ms/epoch - 921us/step\n",
      "Epoch 24/50\n",
      "51/51 - 0s - loss: 0.0201 - accuracy: 0.9982 - val_loss: 0.0805 - val_accuracy: 0.9606 - 59ms/epoch - 1ms/step\n",
      "Epoch 25/50\n",
      "51/51 - 0s - loss: 0.0187 - accuracy: 0.9985 - val_loss: 0.0778 - val_accuracy: 0.9643 - 55ms/epoch - 1ms/step\n",
      "Epoch 26/50\n",
      "51/51 - 0s - loss: 0.0173 - accuracy: 0.9985 - val_loss: 0.0742 - val_accuracy: 0.9667 - 58ms/epoch - 1ms/step\n",
      "Epoch 27/50\n",
      "51/51 - 0s - loss: 0.0161 - accuracy: 0.9988 - val_loss: 0.0721 - val_accuracy: 0.9692 - 48ms/epoch - 942us/step\n",
      "Epoch 28/50\n",
      "51/51 - 0s - loss: 0.0151 - accuracy: 0.9988 - val_loss: 0.0687 - val_accuracy: 0.9704 - 64ms/epoch - 1ms/step\n",
      "Epoch 29/50\n",
      "51/51 - 0s - loss: 0.0141 - accuracy: 0.9988 - val_loss: 0.0661 - val_accuracy: 0.9717 - 61ms/epoch - 1ms/step\n",
      "Epoch 30/50\n",
      "51/51 - 0s - loss: 0.0133 - accuracy: 0.9989 - val_loss: 0.0640 - val_accuracy: 0.9729 - 55ms/epoch - 1ms/step\n",
      "Epoch 31/50\n",
      "51/51 - 0s - loss: 0.0125 - accuracy: 0.9991 - val_loss: 0.0618 - val_accuracy: 0.9778 - 64ms/epoch - 1ms/step\n",
      "Epoch 32/50\n",
      "51/51 - 0s - loss: 0.0117 - accuracy: 0.9991 - val_loss: 0.0606 - val_accuracy: 0.9791 - 44ms/epoch - 856us/step\n",
      "Epoch 33/50\n",
      "51/51 - 0s - loss: 0.0111 - accuracy: 0.9991 - val_loss: 0.0579 - val_accuracy: 0.9815 - 60ms/epoch - 1ms/step\n",
      "Epoch 34/50\n",
      "51/51 - 0s - loss: 0.0105 - accuracy: 0.9992 - val_loss: 0.0563 - val_accuracy: 0.9840 - 53ms/epoch - 1ms/step\n",
      "Epoch 35/50\n",
      "51/51 - 0s - loss: 0.0099 - accuracy: 0.9992 - val_loss: 0.0546 - val_accuracy: 0.9852 - 54ms/epoch - 1ms/step\n",
      "Epoch 36/50\n",
      "51/51 - 0s - loss: 0.0094 - accuracy: 0.9992 - val_loss: 0.0527 - val_accuracy: 0.9865 - 74ms/epoch - 1ms/step\n",
      "Epoch 37/50\n",
      "51/51 - 0s - loss: 0.0090 - accuracy: 0.9994 - val_loss: 0.0513 - val_accuracy: 0.9877 - 50ms/epoch - 988us/step\n",
      "Epoch 38/50\n",
      "51/51 - 0s - loss: 0.0085 - accuracy: 0.9995 - val_loss: 0.0501 - val_accuracy: 0.9877 - 55ms/epoch - 1ms/step\n",
      "Epoch 39/50\n",
      "51/51 - 0s - loss: 0.0081 - accuracy: 0.9995 - val_loss: 0.0483 - val_accuracy: 0.9889 - 47ms/epoch - 925us/step\n",
      "Epoch 40/50\n",
      "51/51 - 0s - loss: 0.0078 - accuracy: 0.9995 - val_loss: 0.0473 - val_accuracy: 0.9914 - 62ms/epoch - 1ms/step\n",
      "Epoch 41/50\n",
      "51/51 - 0s - loss: 0.0074 - accuracy: 0.9997 - val_loss: 0.0458 - val_accuracy: 0.9926 - 65ms/epoch - 1ms/step\n",
      "Epoch 42/50\n",
      "51/51 - 0s - loss: 0.0071 - accuracy: 0.9997 - val_loss: 0.0450 - val_accuracy: 0.9926 - 51ms/epoch - 1ms/step\n",
      "Epoch 43/50\n",
      "51/51 - 0s - loss: 0.0068 - accuracy: 0.9997 - val_loss: 0.0442 - val_accuracy: 0.9938 - 54ms/epoch - 1ms/step\n",
      "Epoch 44/50\n",
      "51/51 - 0s - loss: 0.0065 - accuracy: 0.9997 - val_loss: 0.0435 - val_accuracy: 0.9951 - 78ms/epoch - 2ms/step\n",
      "Epoch 45/50\n",
      "51/51 - 0s - loss: 0.0063 - accuracy: 0.9997 - val_loss: 0.0420 - val_accuracy: 0.9963 - 74ms/epoch - 1ms/step\n",
      "Epoch 46/50\n",
      "51/51 - 0s - loss: 0.0060 - accuracy: 0.9997 - val_loss: 0.0412 - val_accuracy: 0.9963 - 69ms/epoch - 1ms/step\n",
      "Epoch 47/50\n",
      "51/51 - 0s - loss: 0.0058 - accuracy: 0.9997 - val_loss: 0.0399 - val_accuracy: 0.9975 - 58ms/epoch - 1ms/step\n",
      "Epoch 48/50\n",
      "51/51 - 0s - loss: 0.0056 - accuracy: 0.9997 - val_loss: 0.0394 - val_accuracy: 0.9975 - 53ms/epoch - 1ms/step\n",
      "Epoch 49/50\n",
      "51/51 - 0s - loss: 0.0053 - accuracy: 0.9997 - val_loss: 0.0386 - val_accuracy: 0.9975 - 63ms/epoch - 1ms/step\n",
      "Epoch 50/50\n",
      "51/51 - 0s - loss: 0.0052 - accuracy: 0.9997 - val_loss: 0.0378 - val_accuracy: 0.9975 - 68ms/epoch - 1ms/step\n"
     ]
    }
   ],
   "source": [
    "history = model.fit(training_data, training_labels,\n",
    "                    epochs=epochs,\n",
    "                    validation_data=(validation_data, validation_labels),\n",
    "                    verbose=2,\n",
    "                    batch_size=batch_size,\n",
    "                    shuffle=True)"
   ]
  },
  {
   "cell_type": "markdown",
   "metadata": {},
   "source": [
    "## Plot cost and accuracy during training\n",
    "\n",
    "Now we plot the how the cost and accuracy change during training, for both the training data and the validation data."
   ]
  },
  {
   "cell_type": "code",
   "execution_count": 14,
   "metadata": {},
   "outputs": [
    {
     "data": {
      "image/png": "[encoded data removed]",
      "text/plain": [
       "<Figure size 640x480 with 1 Axes>"
      ]
     },
     "metadata": {},
     "output_type": "display_data"
    }
   ],
   "source": [
    "plt.plot(range(len(history.history[\"loss\"])), history.history[\"loss\"], color=\"red\")\n",
    "plt.title(\"Training cost\")\n",
    "plt.grid()"
   ]
  },
  {
   "cell_type": "code",
   "execution_count": 16,
   "metadata": {},
   "outputs": [
    {
     "data": {
      "image/png": "[encoded data removed]",
      "text/plain": [
       "<Figure size 640x480 with 1 Axes>"
      ]
     },
     "metadata": {},
     "output_type": "display_data"
    }
   ],
   "source": [
    "plt.plot(range(len(history.history[\"val_loss\"])), history.history[\"val_loss\"], color=\"red\")\n",
    "plt.title(\"Validation cost\")\n",
    "plt.grid()"
   ]
  },
  {
   "cell_type": "markdown",
   "metadata": {},
   "source": [
    "## Test model\n",
    "\n",
    "We will use the test data we have loaded to test our model performance on unseen data."
   ]
  },
  {
   "cell_type": "code",
   "execution_count": 18,
   "metadata": {},
   "outputs": [
    {
     "name": "stdout",
     "output_type": "stream",
     "text": [
      "26/26 [==============================] - 0s 1ms/step - loss: 0.0926 - accuracy: 0.9914\n",
      "Test accuracy = 0.9913793206214905\n"
     ]
    }
   ],
   "source": [
    "test_results = model.evaluate(test_data,\n",
    "                              test_labels,\n",
    "                              batch_size=None,\n",
    "                              verbose=1)\n",
    "\n",
    "print(\"Test accuracy = {}\".format(test_results[1]))"
   ]
  },
  {
   "cell_type": "code",
   "execution_count": null,
   "metadata": {},
   "outputs": [],
   "source": []
  },
  {
   "cell_type": "code",
   "execution_count": null,
   "metadata": {},
   "outputs": [],
   "source": []
  },
  {
   "cell_type": "code",
   "execution_count": null,
   "metadata": {},
   "outputs": [],
   "source": []
  }
 ],
 "metadata": {
  "kernelspec": {
   "display_name": "Python 3 (ipykernel)",
   "language": "python",
   "name": "python3"
  },
  "language_info": {
   "codemirror_mode": {
    "name": "ipython",
    "version": 3
   },
   "file_extension": ".py",
   "mimetype": "text/x-python",
   "name": "python",
   "nbconvert_exporter": "python",
   "pygments_lexer": "ipython3",
   "version": "3.9.12"
  }
 },
 "nbformat": 4,
 "nbformat_minor": 2
}
